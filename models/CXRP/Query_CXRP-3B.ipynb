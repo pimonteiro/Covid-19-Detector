{
  "nbformat": 4,
  "nbformat_minor": 0,
  "metadata": {
    "colab": {
      "name": "Untitled1.ipynb",
      "provenance": []
    },
    "kernelspec": {
      "name": "python3",
      "display_name": "Python 3"
    }
  },
  "cells": [
    {
      "cell_type": "code",
      "metadata": {
        "id": "Bt95NvKINQMM",
        "colab_type": "code",
        "colab": {}
      },
      "source": [
        "import numpy as np\n",
        "\n",
        "image_width = 224\n",
        "image_height = 224"
      ],
      "execution_count": 12,
      "outputs": []
    },
    {
      "cell_type": "code",
      "metadata": {
        "id": "PboH-qd9KCCz",
        "colab_type": "code",
        "colab": {}
      },
      "source": [
        "from keras.models import model_from_json\n",
        "import json\n",
        "\n",
        "def load_model(model_path, weights_path):\n",
        "  with open(model_path, 'r') as json_file:\n",
        "    architecture  = json.load(json_file)\n",
        "    model = model_from_json(json.dumps(architecture))\n",
        "  model.load_weights(weights_path)\n",
        "  return model"
      ],
      "execution_count": 8,
      "outputs": []
    },
    {
      "cell_type": "code",
      "metadata": {
        "id": "hee3xwdbKIOr",
        "colab_type": "code",
        "colab": {}
      },
      "source": [
        "import cv2\n",
        "def query_model(model, img):\n",
        "  tmp_image = cv2.imread(img)\n",
        "  tmp_image = np.array(tmp_image)\n",
        "  tmp_image = cv2.resize(tmp_image, (image_width, image_height))\n",
        "  tmp_image = tmp_image / 255\n",
        "  res = model.predict(np.expand_dims(tmp_image, axis=0))\n",
        "  res = [t * 100 for t in res[0]]\n",
        "  labels = ['Covid-19','Normal','Pneumonia']\n",
        "  res_labeled = list(zip(labels,res))\n",
        "  for r in res_labeled:\n",
        "    print(r[0], \": \", round(r[1],1), \"%\")"
      ],
      "execution_count": 25,
      "outputs": []
    },
    {
      "cell_type": "code",
      "metadata": {
        "id": "mkaDCwCtKJZT",
        "colab_type": "code",
        "colab": {}
      },
      "source": [
        "def predict_image(img_path):\n",
        "  model = load_model(\"model_cxrp3b.json\",\"best_weights.hdf5\")\n",
        "  query_model(model, img_path)"
      ],
      "execution_count": 10,
      "outputs": []
    },
    {
      "cell_type": "code",
      "metadata": {
        "id": "d4VUeJ64MjLs",
        "colab_type": "code",
        "colab": {
          "base_uri": "https://localhost:8080/",
          "height": 70
        },
        "outputId": "6eb17b1e-e1c2-434c-81c0-b61075f132d2"
      },
      "source": [
        "predict_image(\"image_path\")"
      ],
      "execution_count": 28,
      "outputs": [
        {
          "output_type": "stream",
          "text": [
            "Covid-19 :  86.9 %\n",
            "Normal :  9.4 %\n",
            "Pneumonia :  3.7 %\n"
          ],
          "name": "stdout"
        }
      ]
    }
  ]
}